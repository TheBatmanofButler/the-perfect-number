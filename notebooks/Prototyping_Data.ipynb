{
 "cells": [
  {
   "cell_type": "code",
   "execution_count": 1,
   "metadata": {},
   "outputs": [
    {
     "ename": "ModuleNotFoundError",
     "evalue": "No module named 'missingno'",
     "output_type": "error",
     "traceback": [
      "\u001b[0;31m---------------------------------------------------------------------------\u001b[0m",
      "\u001b[0;31mModuleNotFoundError\u001b[0m                       Traceback (most recent call last)",
      "\u001b[0;32m<ipython-input-1-6526d307a2e2>\u001b[0m in \u001b[0;36m<module>\u001b[0;34m()\u001b[0m\n\u001b[1;32m      1\u001b[0m \u001b[0;32mimport\u001b[0m \u001b[0mpandas\u001b[0m \u001b[0;32mas\u001b[0m \u001b[0mpd\u001b[0m\u001b[0;34m\u001b[0m\u001b[0m\n\u001b[0;32m----> 2\u001b[0;31m \u001b[0;32mimport\u001b[0m \u001b[0mmissingno\u001b[0m \u001b[0;32mas\u001b[0m \u001b[0mmn\u001b[0m\u001b[0;34m\u001b[0m\u001b[0m\n\u001b[0m\u001b[1;32m      3\u001b[0m \u001b[0mget_ipython\u001b[0m\u001b[0;34m(\u001b[0m\u001b[0;34m)\u001b[0m\u001b[0;34m.\u001b[0m\u001b[0mmagic\u001b[0m\u001b[0;34m(\u001b[0m\u001b[0;34m'matplotlib inline'\u001b[0m\u001b[0;34m)\u001b[0m\u001b[0;34m\u001b[0m\u001b[0m\n\u001b[1;32m      4\u001b[0m \u001b[0;32mimport\u001b[0m \u001b[0mmatplotlib\u001b[0m\u001b[0;34m\u001b[0m\u001b[0m\n\u001b[1;32m      5\u001b[0m \u001b[0;32mimport\u001b[0m \u001b[0mmatplotlib\u001b[0m\u001b[0;34m.\u001b[0m\u001b[0mpyplot\u001b[0m \u001b[0;32mas\u001b[0m \u001b[0mplt\u001b[0m\u001b[0;34m\u001b[0m\u001b[0m\n",
      "\u001b[0;31mModuleNotFoundError\u001b[0m: No module named 'missingno'"
     ]
    }
   ],
   "source": [
    "import pandas as pd\n",
    "import missingno as mn\n",
    "%matplotlib inline\n",
    "import matplotlib\n",
    "import matplotlib.pyplot as plt\n",
    "import numpy as np\n",
    "matplotlib.rcParams['figure.figsize'] = [20, 10]"
   ]
  },
  {
   "cell_type": "markdown",
   "metadata": {},
   "source": [
    "### Transferred \"CEO Pay and Employment Data at Tax-Dodging Corporations\" table from Appendix 1 from Report A into `ips_appendix1`"
   ]
  },
  {
   "cell_type": "code",
   "execution_count": null,
   "metadata": {},
   "outputs": [],
   "source": [
    "ips_appendix1 = pd.read_csv('../csv/report_data/ips_appendix1.csv')\n",
    "ips_appendix1.columns = ['Company Name', 'Profit ($mil 2008-2015)', 'Fed Tax Paid ($mil 2008-2015)', 'Effective Tax Rate (% 2008-2015)','Employee count (# end of 2016)', 'Difference in employee count (# 2008-2016)','Adjusted percent change in employees (% 2008-2016)', 'CEO compensation ($ 2016)', 'CEO compensation % change (2008-2016)']\n",
    "ips_appendix1.index = ips_appendix1['Company Name']\n",
    "ips_appendix1.drop(ips_appendix1.columns[0], axis = 1, inplace=True)\n",
    "ips_appendix1.head()"
   ]
  },
  {
   "cell_type": "markdown",
   "metadata": {},
   "source": [
    "### Transferred \"Effective Federal Corporate Income Tax Rates on 258 Major Corporations, 2008–2015 (alphabetical)\" table from Report B into `itep_tax_rates`"
   ]
  },
  {
   "cell_type": "code",
   "execution_count": null,
   "metadata": {},
   "outputs": [],
   "source": [
    "itep_tax_rates = pd.read_csv('../csv/report_data/itep_tax_rates.csv', na_values=['NaN'])\n",
    "itep_tax_rates.columns= ['Company Name', 'Profit ($mil Eight Year Total)', 'Tax ($mil Eight Year Total)',\n",
    "       'Rate (% Eight Year Total)', 'Profit ($mil 2015)', 'Tax ($mil 2015)', 'Rate (% 2015)',\n",
    "       'Profit ($mil 2014)', 'Tax ($mil 2014)', 'Rate (% 2014)', 'Profit ($mil 2013)',\n",
    "       'Tax ($mil 2013)', 'Rate (% 2013)', 'Profit ($mil 2008-12)', 'Tax ($mil 2008-12)',\n",
    "       'Rate (% 2008-12)']\n",
    "itep_tax_rates.index = itep_tax_rates['Company Name']\n",
    "itep_tax_rates.drop(itep_tax_rates.columns[0], axis = 1, inplace=True)\n",
    "itep_tax_rates.head()"
   ]
  },
  {
   "cell_type": "markdown",
   "metadata": {},
   "source": [
    "### Transferred \"U.S. Profits & U.S. Federal Income Taxes versus Foreign Profits & Foreign Income Taxes, 2008-15 for companies with foreign pretax profits at least 10% of total worldwide pretax profits, \\$-million\" table from Report B into `itep_foreign`"
   ]
  },
  {
   "cell_type": "code",
   "execution_count": null,
   "metadata": {},
   "outputs": [],
   "source": [
    "itep_foreign = pd.read_csv('../csv/report_data/itep_foreign.csv')\n",
    "itep_foreign.columns = ['Company Name', 'US profit', 'US tax', 'US rate', 'Foreign profit', 'Foreign tax',\n",
    "                          'Foreign rate', 'US rate - Foreign rate']\n",
    "itep_foreign.index = itep_foreign['Company Name']\n",
    "itep_foreign.drop(itep_foreign.columns[0], axis = 1, inplace=True)\n",
    "itep_foreign.head()"
   ]
  },
  {
   "cell_type": "markdown",
   "metadata": {},
   "source": [
    "### Transferred \"3 Effective Federal Corporate Income Tax Rates on 258 Major Corporations, 2008–2015 by Industry\" table from Report B into `itep_corp_indust`"
   ]
  },
  {
   "cell_type": "code",
   "execution_count": null,
   "metadata": {},
   "outputs": [],
   "source": [
    "itep_corp_indust = pd.read_csv('../csv/report_data/itep_corp_indust.csv')\n",
    "itep_corp_indust.columns = ['Company Name', 'Industry']\n",
    "itep_corp_indust.index = itep_corp_indust['Company Name']\n",
    "itep_corp_indust.drop(itep_corp_indust.columns[0], axis = 1, inplace=True)\n",
    "itep_corp_indust.head()"
   ]
  },
  {
   "cell_type": "markdown",
   "metadata": {},
   "source": [
    "### Transferred industry categorization data from \"100 Companies Paying Zero Tax or Less in at Least One Year, 2008–2015\" table from Report B into `itep_zero_tax`"
   ]
  },
  {
   "cell_type": "code",
   "execution_count": null,
   "metadata": {},
   "outputs": [],
   "source": [
    "itep_zero_tax = pd.read_csv('../csv/report_data/itep_zero_tax.csv')\n",
    "itep_zero_tax.columns = ['Company Name', 'Years with zero tax or less']\n",
    "itep_zero_tax.index = itep_zero_tax['Company Name']\n",
    "itep_zero_tax.drop(itep_zero_tax.columns[0], axis = 1, inplace=True)\n",
    "itep_zero_tax.head()"
   ]
  },
  {
   "cell_type": "markdown",
   "metadata": {},
   "source": [
    "### Transferred industry categorization data from \"Company-By-Company Notes\" from Report B into `itep_notes`"
   ]
  },
  {
   "cell_type": "code",
   "execution_count": null,
   "metadata": {},
   "outputs": [],
   "source": [
    "itep_notes = pd.read_csv('../csv/report_data/itep_notes.csv')\n",
    "itep_notes.columns = ['Company Name', 'Note']\n",
    "itep_notes.index = itep_notes['Company Name']\n",
    "itep_notes.drop(itep_notes.columns[0], axis = 1, inplace=True)\n",
    "itep_notes.head()"
   ]
  },
  {
   "cell_type": "code",
   "execution_count": null,
   "metadata": {
    "collapsed": true
   },
   "outputs": [],
   "source": [
    "def tax_break(company_name):\n",
    "    company_row = master_table.loc[company_name]\n",
    "    return company_row['Profit ($mil Eight Year Total)'] * 0.35 - company_row['Tax ($mil Eight Year Total)']"
   ]
  },
  {
   "cell_type": "markdown",
   "metadata": {},
   "source": [
    "#### Creating new `master_table`"
   ]
  },
  {
   "cell_type": "code",
   "execution_count": null,
   "metadata": {
    "collapsed": true
   },
   "outputs": [],
   "source": [
    "master_table = itep_tax_rates.copy()"
   ]
  },
  {
   "cell_type": "markdown",
   "metadata": {},
   "source": [
    "#### Merging `ips_appendix1` with `master_table`"
   ]
  },
  {
   "cell_type": "code",
   "execution_count": null,
   "metadata": {
    "scrolled": false
   },
   "outputs": [],
   "source": [
    "ips_appendix1.index.difference(master_table.index)"
   ]
  },
  {
   "cell_type": "code",
   "execution_count": null,
   "metadata": {
    "collapsed": true,
    "scrolled": false
   },
   "outputs": [],
   "source": [
    "ips_appendix1.rename({'21st Century Fox': 'Twenty-First Century Fox',\n",
    "                       'Commty Health Systems': 'Community Health Systems',\n",
    "                       'ExxonMobil': 'Exxon Mobil',\n",
    "                        'JPMorgan Chase': 'J.P. Morgan Chase & Co.',\n",
    "                        'PNC Financial Services': 'PNC Financial Services Group',\n",
    "                        'Public Service Enterprise': 'Public Service Enterprise Group',\n",
    "                        'Reinsurance Grp of Amer': 'Reinsurance Group of America',\n",
    "                        'Travelers': 'Travelers Cos.',\n",
    "                        'Verizon': 'Verizon Communications'}, inplace=True)\n",
    "\n",
    "master_table.rename({'International Business Machines': 'IBM',\n",
    "                     'Wisconsin Energy': 'WEC',\n",
    "                     'Wyndham Worldwide Corporation':'Wyndham Worldwide'}, inplace=True)\n",
    "\n",
    "master_table = pd.concat([master_table, ips_appendix1[['Employee count (# end of 2016)','Difference in employee count (# 2008-2016)','Adjusted percent change in employees (% 2008-2016)','CEO compensation ($ 2016)', 'CEO compensation % change (2008-2016)']]], axis=1)"
   ]
  },
  {
   "cell_type": "code",
   "execution_count": null,
   "metadata": {
    "scrolled": false
   },
   "outputs": [],
   "source": [
    "print(len(master_table))\n",
    "master_table.head()"
   ]
  },
  {
   "cell_type": "markdown",
   "metadata": {
    "collapsed": true
   },
   "source": [
    "#### Merging `itep_foreign` with `master_table`"
   ]
  },
  {
   "cell_type": "code",
   "execution_count": null,
   "metadata": {
    "scrolled": false
   },
   "outputs": [],
   "source": [
    "itep_foreign.index.difference(master_table.index)"
   ]
  },
  {
   "cell_type": "code",
   "execution_count": null,
   "metadata": {
    "collapsed": true
   },
   "outputs": [],
   "source": [
    "itep_foreign.rename({'Gamestop': 'GameStop',\n",
    "                       'International Business Machines': 'IBM',\n",
    "                       'Wyndham Worldwide Corporation': 'Wyndham Worldwide'}, inplace=True)\n",
    "master_table = pd.concat([master_table, itep_foreign], axis=1)"
   ]
  },
  {
   "cell_type": "code",
   "execution_count": null,
   "metadata": {},
   "outputs": [],
   "source": [
    "print(len(master_table))\n",
    "master_table.head()"
   ]
  },
  {
   "cell_type": "markdown",
   "metadata": {},
   "source": [
    "#### Merging `itep_corp_indust` with `master_table`"
   ]
  },
  {
   "cell_type": "code",
   "execution_count": null,
   "metadata": {
    "scrolled": false
   },
   "outputs": [],
   "source": [
    "itep_corp_indust.index.difference(master_table.index)"
   ]
  },
  {
   "cell_type": "code",
   "execution_count": null,
   "metadata": {
    "collapsed": true
   },
   "outputs": [],
   "source": [
    "itep_corp_indust.rename({'International Business Machines': 'IBM',\n",
    "                     'Wisconsin Energy': 'WEC',\n",
    "                     'Wyndham Worldwide Corporation':'Wyndham Worldwide'}, inplace=True)\n",
    "master_table = pd.concat([master_table, itep_corp_indust], axis=1)"
   ]
  },
  {
   "cell_type": "code",
   "execution_count": null,
   "metadata": {
    "scrolled": true
   },
   "outputs": [],
   "source": [
    "print(len(master_table))\n",
    "master_table.head()"
   ]
  },
  {
   "cell_type": "markdown",
   "metadata": {},
   "source": [
    "#### Merging `itep_zero_tax` with `master_table`"
   ]
  },
  {
   "cell_type": "code",
   "execution_count": null,
   "metadata": {
    "scrolled": false
   },
   "outputs": [],
   "source": [
    "itep_zero_tax.index.difference(master_table.index)"
   ]
  },
  {
   "cell_type": "code",
   "execution_count": null,
   "metadata": {
    "collapsed": true
   },
   "outputs": [],
   "source": [
    "itep_zero_tax.rename({'Group1 Automotive': 'Group 1 Automotive',\n",
    "                     'International Business Machines': 'IBM',\n",
    "                     'Wisconsin Energy':'WEC'}, inplace=True)\n",
    "master_table = pd.concat([master_table, itep_zero_tax], axis=1)\n",
    "master_table['Years with zero tax or less'].fillna(0, inplace=True)"
   ]
  },
  {
   "cell_type": "code",
   "execution_count": null,
   "metadata": {
    "scrolled": true
   },
   "outputs": [],
   "source": [
    "print(len(master_table))\n",
    "master_table.head()"
   ]
  },
  {
   "cell_type": "markdown",
   "metadata": {},
   "source": [
    "#### Merging `itep_notes` with `master_table`"
   ]
  },
  {
   "cell_type": "code",
   "execution_count": null,
   "metadata": {},
   "outputs": [],
   "source": [
    "itep_notes.index.difference(master_table.index)"
   ]
  },
  {
   "cell_type": "code",
   "execution_count": null,
   "metadata": {
    "collapsed": true
   },
   "outputs": [],
   "source": [
    "itep_notes.rename({'Air Products and Chemicals': 'Air Products & Chemicals',\n",
    "                   'Amazon': 'Amazon.com',\n",
    "                   'Asbury Automotive Group': 'Asbury Automotive Group Inc.',\n",
    "                   'Autonation': 'AutoNation',\n",
    "                   'Autozone': 'AutoZone',\n",
    "                   'BB&T': 'BB&T Corp.',\n",
    "                   'C.H. Robinson': 'C.H. Robinson Worldwide',\n",
    "                   'Capital One': 'Capital One Financial',\n",
    "                   'Coach': 'Coach Inc.',\n",
    "                   'Discovery Communications': 'Discovery Communications Inc.',\n",
    "                   'Dupont': 'DuPont',\n",
    "                   'First Energy': 'FirstEnergy',\n",
    "                   'Gamestop': 'GameStop',\n",
    "                   'International Business Machines (IBM)': 'IBM',\n",
    "                   'Interpublic': 'Interpublic Group',\n",
    "                   'LKQ Corp': 'LKQ Corporation',\n",
    "                   'Mastercard': 'MasterCard',\n",
    "                   'McDonalds': 'McDonald\\'s',\n",
    "                   'PG&E Corp': 'PG&E Corp.',\n",
    "                   'Pepsico': 'PepsiCo',\n",
    "                   'Spartan Nash': 'SpartanNash',\n",
    "                   'State Street': 'State Street Corp.',\n",
    "                   'Unum': 'Unum Group',\n",
    "                   'WEC Energy Group': 'WEC',\n",
    "                   'Wal-Mart': 'Wal-Mart Stores'}, inplace=True)\n",
    "\n",
    "master_table.rename({'WellPoint': 'Anthem',\n",
    "                     'DISH Network': 'Dish Network',\n",
    "                     'Walgreen':'Walgreens'}, inplace=True)\n",
    "\n",
    "master_table = pd.concat([master_table, itep_notes], axis=1)"
   ]
  },
  {
   "cell_type": "code",
   "execution_count": null,
   "metadata": {},
   "outputs": [],
   "source": [
    "plt.plot([0,258],[35,35], 'r')\n",
    "plt.title('Slide 2')\n",
    "plt.show()"
   ]
  },
  {
   "cell_type": "code",
   "execution_count": null,
   "metadata": {},
   "outputs": [],
   "source": [
    "master_table['Rate (% Eight Year Total)'].sort_values(ascending=False).plot('bar').set_ylabel('Rate (% Eight Year Total)')\n",
    "plt.plot([0,258],[35,35], 'r')\n",
    "plt.title('Slide 3')\n",
    "plt.show()"
   ]
  },
  {
   "cell_type": "code",
   "execution_count": null,
   "metadata": {},
   "outputs": [],
   "source": [
    "master_table[np.isfinite(master_table['CEO compensation ($ 2016)'])].sort_values('Rate (% Eight Year Total)', ascending=False)['Rate (% Eight Year Total)'].plot(kind='bar').set_ylabel('Rate (% Eight Year Total)')\n",
    "plt.title('Slide 6')\n",
    "plt.show()\n"
   ]
  },
  {
   "cell_type": "code",
   "execution_count": null,
   "metadata": {},
   "outputs": [],
   "source": [
    "master_table[np.isfinite(master_table['CEO compensation ($ 2016)'])].sort_values('Rate (% Eight Year Total)', ascending=False)['Adjusted percent change in employees (% 2008-2016)'].plot(kind='bar').set_ylabel('Adjusted percent change in employees (% 2008-2016)')\n",
    "plt.title('Slide 6')\n",
    "plt.show()\n"
   ]
  },
  {
   "cell_type": "code",
   "execution_count": null,
   "metadata": {},
   "outputs": [],
   "source": [
    "master_table[master_table['Adjusted percent change in employees (% 2008-2016)'] < 0]['Adjusted percent change in employees (% 2008-2016)'].sort_values(ascending=False).plot(kind='bar').set_ylabel('Adjusted percent change in employees (% 2008-2016)')\n",
    "plt.title('Slide 6')\n",
    "plt.show()\n"
   ]
  },
  {
   "cell_type": "code",
   "execution_count": null,
   "metadata": {},
   "outputs": [],
   "source": [
    "master_table['US rate - Foreign rate'].dropna().sort_values(ascending=False).plot(kind='bar').set_ylabel('US rate - Foreign rate')\n",
    "plt.title('Slide 8')\n",
    "plt.show()\n"
   ]
  },
  {
   "cell_type": "markdown",
   "metadata": {},
   "source": [
    "### Creating new `interactive_data`"
   ]
  },
  {
   "cell_type": "code",
   "execution_count": null,
   "metadata": {
    "collapsed": true,
    "scrolled": false
   },
   "outputs": [],
   "source": [
    "interactive_data = master_table.copy()\n",
    "\n",
    "interactive_data.drop(['Tax ($mil Eight Year Total)',\n",
    "                       'Profit ($mil 2015)', 'Tax ($mil 2015)',\n",
    "                       'Rate (% 2015)', 'Profit ($mil 2014)', 'Tax ($mil 2014)',\n",
    "                       'Rate (% 2014)', 'Profit ($mil 2013)', 'Tax ($mil 2013)',\n",
    "                       'Rate (% 2013)', 'Profit ($mil 2008-12)', 'Tax ($mil 2008-12)',\n",
    "                       'Rate (% 2008-12)', 'Employee count (# end of 2016)',\n",
    "                       'Difference in employee count (# 2008-2016)',\n",
    "                       'US profit', 'US tax', 'US rate', 'Foreign profit', 'Foreign tax',\n",
    "                       'Foreign rate'], axis=1, inplace=True)\n",
    "interactive_data.columns = ['profit','rate','adjusted_emp_change','ceo_comp_amt','ceo_comp_change','us_foreign_diff','industry','years_no_tax','note']"
   ]
  },
  {
   "cell_type": "code",
   "execution_count": null,
   "metadata": {
    "collapsed": true
   },
   "outputs": [],
   "source": [
    "tax_breaks = []\n",
    "for company in master_table.index:\n",
    "    tax_breaks.append(tax_break(company))\n",
    "    \n",
    "interactive_data['tax_break'] = tax_breaks"
   ]
  },
  {
   "cell_type": "code",
   "execution_count": null,
   "metadata": {
    "scrolled": false
   },
   "outputs": [],
   "source": [
    "interactive_data.head()"
   ]
  },
  {
   "cell_type": "markdown",
   "metadata": {},
   "source": [
    "### Creating `stock_options` column"
   ]
  },
  {
   "cell_type": "code",
   "execution_count": null,
   "metadata": {
    "scrolled": false
   },
   "outputs": [],
   "source": [
    "interactive_data['stock_options'] = interactive_data['note'].str.contains('stock options', case=False)\n",
    "interactive_data['stock_options'].value_counts(dropna=False)"
   ]
  },
  {
   "cell_type": "markdown",
   "metadata": {},
   "source": [
    "### Creating `research_experiment` column"
   ]
  },
  {
   "cell_type": "code",
   "execution_count": null,
   "metadata": {
    "scrolled": false
   },
   "outputs": [],
   "source": [
    "interactive_data['research_experiment'] = interactive_data['note'].str.contains('research and experimentation', case=False)\n",
    "interactive_data['research_experiment'].value_counts(dropna=False)"
   ]
  },
  {
   "cell_type": "markdown",
   "metadata": {},
   "source": [
    "### Creating `dpad` column"
   ]
  },
  {
   "cell_type": "code",
   "execution_count": null,
   "metadata": {
    "scrolled": false
   },
   "outputs": [],
   "source": [
    "interactive_data['dpad'] = interactive_data['note'].str.contains('Domestic Production Activities Deduction', case=False)\n",
    "interactive_data['dpad'].value_counts(dropna=False)"
   ]
  },
  {
   "cell_type": "markdown",
   "metadata": {},
   "source": [
    "### Creating `acc_depreciation` column"
   ]
  },
  {
   "cell_type": "code",
   "execution_count": null,
   "metadata": {
    "scrolled": false
   },
   "outputs": [],
   "source": [
    "interactive_data['acc_depreciation'] = interactive_data['note'].str.contains('accelerated', case=False)\n",
    "interactive_data['acc_depreciation'].value_counts(dropna=False)"
   ]
  },
  {
   "cell_type": "markdown",
   "metadata": {},
   "source": [
    "### Creating `deferred_taxes` column"
   ]
  },
  {
   "cell_type": "code",
   "execution_count": null,
   "metadata": {
    "scrolled": false
   },
   "outputs": [],
   "source": [
    "interactive_data['deferred_taxes'] = interactive_data['note'].str.contains('deferred', case=False)\n",
    "interactive_data['deferred_taxes'].value_counts(dropna=False)"
   ]
  },
  {
   "cell_type": "markdown",
   "metadata": {},
   "source": [
    "### Creating `competitor` column"
   ]
  },
  {
   "cell_type": "code",
   "execution_count": null,
   "metadata": {
    "collapsed": true
   },
   "outputs": [],
   "source": [
    "interactive_data['competitor'] = np.nan\n",
    "\n",
    "competitors = {\n",
    "    'Honeywell International': 1,\n",
    "    'Deere': 1,\n",
    "    'Boeing': 2,\n",
    "    'General Dynamics': 2,\n",
    "    'Kimberly-Clark': 3,\n",
    "    'Clorox': 3,\n",
    "    'Eli Lilly': 4,\n",
    "    'Biogen Idec': 4,\n",
    "    'Time Warner Cable': 5,\n",
    "    'Comcast': 5\n",
    "}\n",
    "\n",
    "for company in competitors:\n",
    "    interactive_data.set_value(company, 'competitor', competitors[company])"
   ]
  },
  {
   "cell_type": "markdown",
   "metadata": {},
   "source": [
    "### Saving `interactive_data` into csv"
   ]
  },
  {
   "cell_type": "code",
   "execution_count": null,
   "metadata": {
    "collapsed": true,
    "scrolled": false
   },
   "outputs": [],
   "source": [
    "interactive_data.to_csv('../csv/dv_data/interactive_data.csv', index_label='company_name')"
   ]
  },
  {
   "cell_type": "code",
   "execution_count": null,
   "metadata": {
    "scrolled": false
   },
   "outputs": [],
   "source": [
    "interactive_data"
   ]
  },
  {
   "cell_type": "code",
   "execution_count": null,
   "metadata": {},
   "outputs": [],
   "source": [
    "interactive_data['tax_break'].max()"
   ]
  },
  {
   "cell_type": "code",
   "execution_count": null,
   "metadata": {},
   "outputs": [],
   "source": [
    "interactive_data['tax_break'].min()"
   ]
  },
  {
   "cell_type": "code",
   "execution_count": null,
   "metadata": {
    "collapsed": true
   },
   "outputs": [],
   "source": [
    "38067"
   ]
  }
 ],
 "metadata": {
  "kernelspec": {
   "display_name": "Python 3",
   "language": "python",
   "name": "python3"
  },
  "language_info": {
   "codemirror_mode": {
    "name": "ipython",
    "version": 3
   },
   "file_extension": ".py",
   "mimetype": "text/x-python",
   "name": "python",
   "nbconvert_exporter": "python",
   "pygments_lexer": "ipython3",
   "version": "3.6.1"
  }
 },
 "nbformat": 4,
 "nbformat_minor": 2
}
